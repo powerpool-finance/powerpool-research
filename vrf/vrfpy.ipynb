{
 "cells": [
  {
   "cell_type": "code",
   "execution_count": 45,
   "metadata": {},
   "outputs": [
    {
     "name": "stdout",
     "output_type": "stream",
     "text": [
      "Requirement already satisfied: coincurve in ./.venv/lib/python3.10/site-packages (19.0.1)\n",
      "Requirement already satisfied: sha3 in ./.venv/lib/python3.10/site-packages (0.2.1)\n",
      "Requirement already satisfied: eth_utils in ./.venv/lib/python3.10/site-packages (4.0.0)\n",
      "Requirement already satisfied: ecpy in ./.venv/lib/python3.10/site-packages (1.2.5)\n",
      "Requirement already satisfied: numpy in ./.venv/lib/python3.10/site-packages (1.26.4)\n",
      "Requirement already satisfied: web3 in ./.venv/lib/python3.10/site-packages (6.15.1)\n",
      "Requirement already satisfied: asn1crypto in ./.venv/lib/python3.10/site-packages (from coincurve) (1.5.1)\n",
      "Requirement already satisfied: cffi>=1.3.0 in ./.venv/lib/python3.10/site-packages (from coincurve) (1.16.0)\n",
      "Requirement already satisfied: eth-hash>=0.3.1 in ./.venv/lib/python3.10/site-packages (from eth_utils) (0.7.0)\n",
      "Requirement already satisfied: eth-typing>=3.0.0 in ./.venv/lib/python3.10/site-packages (from eth_utils) (4.0.0)\n",
      "Requirement already satisfied: cytoolz>=0.10.1 in ./.venv/lib/python3.10/site-packages (from eth_utils) (0.12.3)\n",
      "Requirement already satisfied: aiohttp>=3.7.4.post0 in ./.venv/lib/python3.10/site-packages (from web3) (3.9.3)\n",
      "Requirement already satisfied: eth-abi>=4.0.0 in ./.venv/lib/python3.10/site-packages (from web3) (5.0.0)\n",
      "Requirement already satisfied: eth-account>=0.8.0 in ./.venv/lib/python3.10/site-packages (from web3) (0.11.0)\n",
      "Requirement already satisfied: hexbytes<0.4.0,>=0.1.0 in ./.venv/lib/python3.10/site-packages (from web3) (0.3.1)\n",
      "Requirement already satisfied: jsonschema>=4.0.0 in ./.venv/lib/python3.10/site-packages (from web3) (4.21.1)\n",
      "Requirement already satisfied: lru-dict<1.3.0,>=1.1.6 in ./.venv/lib/python3.10/site-packages (from web3) (1.2.0)\n",
      "Requirement already satisfied: protobuf>=4.21.6 in ./.venv/lib/python3.10/site-packages (from web3) (4.25.3)\n",
      "Requirement already satisfied: requests>=2.16.0 in ./.venv/lib/python3.10/site-packages (from web3) (2.31.0)\n",
      "Requirement already satisfied: typing-extensions>=4.0.1 in ./.venv/lib/python3.10/site-packages (from web3) (4.10.0)\n",
      "Requirement already satisfied: websockets>=10.0.0 in ./.venv/lib/python3.10/site-packages (from web3) (12.0)\n",
      "Requirement already satisfied: pyunormalize>=15.0.0 in ./.venv/lib/python3.10/site-packages (from web3) (15.1.0)\n",
      "Requirement already satisfied: aiosignal>=1.1.2 in ./.venv/lib/python3.10/site-packages (from aiohttp>=3.7.4.post0->web3) (1.3.1)\n",
      "Requirement already satisfied: attrs>=17.3.0 in ./.venv/lib/python3.10/site-packages (from aiohttp>=3.7.4.post0->web3) (23.2.0)\n",
      "Requirement already satisfied: frozenlist>=1.1.1 in ./.venv/lib/python3.10/site-packages (from aiohttp>=3.7.4.post0->web3) (1.4.1)\n",
      "Requirement already satisfied: multidict<7.0,>=4.5 in ./.venv/lib/python3.10/site-packages (from aiohttp>=3.7.4.post0->web3) (6.0.5)\n",
      "Requirement already satisfied: yarl<2.0,>=1.0 in ./.venv/lib/python3.10/site-packages (from aiohttp>=3.7.4.post0->web3) (1.9.4)\n",
      "Requirement already satisfied: async-timeout<5.0,>=4.0 in ./.venv/lib/python3.10/site-packages (from aiohttp>=3.7.4.post0->web3) (4.0.3)\n",
      "Requirement already satisfied: pycparser in ./.venv/lib/python3.10/site-packages (from cffi>=1.3.0->coincurve) (2.21)\n",
      "Requirement already satisfied: toolz>=0.8.0 in ./.venv/lib/python3.10/site-packages (from cytoolz>=0.10.1->eth_utils) (0.12.1)\n",
      "Requirement already satisfied: parsimonious<0.10.0,>=0.9.0 in ./.venv/lib/python3.10/site-packages (from eth-abi>=4.0.0->web3) (0.9.0)\n",
      "Requirement already satisfied: bitarray>=2.4.0 in ./.venv/lib/python3.10/site-packages (from eth-account>=0.8.0->web3) (2.9.2)\n",
      "Requirement already satisfied: eth-keyfile>=0.6.0 in ./.venv/lib/python3.10/site-packages (from eth-account>=0.8.0->web3) (0.8.0)\n",
      "Requirement already satisfied: eth-keys>=0.4.0 in ./.venv/lib/python3.10/site-packages (from eth-account>=0.8.0->web3) (0.5.0)\n",
      "Requirement already satisfied: eth-rlp>=0.3.0 in ./.venv/lib/python3.10/site-packages (from eth-account>=0.8.0->web3) (1.0.1)\n",
      "Requirement already satisfied: rlp>=1.0.0 in ./.venv/lib/python3.10/site-packages (from eth-account>=0.8.0->web3) (4.0.0)\n",
      "Requirement already satisfied: pycryptodome<4,>=3.6.6 in ./.venv/lib/python3.10/site-packages (from eth-hash[pycryptodome]>=0.5.1->web3) (3.20.0)\n",
      "Requirement already satisfied: jsonschema-specifications>=2023.03.6 in ./.venv/lib/python3.10/site-packages (from jsonschema>=4.0.0->web3) (2023.12.1)\n",
      "Requirement already satisfied: referencing>=0.28.4 in ./.venv/lib/python3.10/site-packages (from jsonschema>=4.0.0->web3) (0.33.0)\n",
      "Requirement already satisfied: rpds-py>=0.7.1 in ./.venv/lib/python3.10/site-packages (from jsonschema>=4.0.0->web3) (0.18.0)\n",
      "Requirement already satisfied: charset-normalizer<4,>=2 in ./.venv/lib/python3.10/site-packages (from requests>=2.16.0->web3) (3.3.2)\n",
      "Requirement already satisfied: idna<4,>=2.5 in ./.venv/lib/python3.10/site-packages (from requests>=2.16.0->web3) (3.6)\n",
      "Requirement already satisfied: urllib3<3,>=1.21.1 in ./.venv/lib/python3.10/site-packages (from requests>=2.16.0->web3) (2.2.1)\n",
      "Requirement already satisfied: certifi>=2017.4.17 in ./.venv/lib/python3.10/site-packages (from requests>=2.16.0->web3) (2024.2.2)\n",
      "Requirement already satisfied: regex>=2022.3.15 in ./.venv/lib/python3.10/site-packages (from parsimonious<0.10.0,>=0.9.0->eth-abi>=4.0.0->web3) (2023.12.25)\n"
     ]
    }
   ],
   "source": [
    "!pip install coincurve sha3 eth_utils ecpy numpy web3"
   ]
  },
  {
   "cell_type": "code",
   "execution_count": 46,
   "metadata": {},
   "outputs": [],
   "source": [
    "import eth_utils\n",
    "import ecpy\n",
    "from ecpy import curves\n",
    "import numpy as np\n",
    "import web3"
   ]
  },
  {
   "cell_type": "code",
   "execution_count": 47,
   "metadata": {},
   "outputs": [],
   "source": [
    "cv   = curves.Curve.get_curve('secp256k1')"
   ]
  },
  {
   "cell_type": "code",
   "execution_count": 48,
   "metadata": {},
   "outputs": [
    {
     "name": "stdout",
     "output_type": "stream",
     "text": [
      "{'name': 'secp256k1'\n",
      " 'type': 'weierstrass'\n",
      " 'size': 256\n",
      " 'a': 0\n",
      " 'b': 7\n",
      " 'field': 115792089237316195423570985008687907853269984665640564039457584007908834671663\n",
      " 'generator': <ecpy.curves.Point object at 0x7f32e0bcb640>\n",
      " 'order': 115792089237316195423570985008687907852837564279074904382605163141518161494337\n",
      " 'cofactor': 1}\n"
     ]
    }
   ],
   "source": [
    "print(cv)"
   ]
  },
  {
   "cell_type": "code",
   "execution_count": 49,
   "metadata": {},
   "outputs": [
    {
     "name": "stdout",
     "output_type": "stream",
     "text": [
      "(0x79be667ef9dcbbac55a06295ce870b07029bfcdb2dce28d959f2815b16f81798 , 0x483ada7726a3c4655da4fbfc0e1108a8fd17b448a68554199c47d08ffb10d4b8)\n"
     ]
    }
   ],
   "source": [
    "print(cv.generator)"
   ]
  },
  {
   "cell_type": "code",
   "execution_count": 50,
   "metadata": {},
   "outputs": [],
   "source": [
    "order = cv.order\n",
    "fieldSize = 0xFFFFFFFFFFFFFFFFFFFFFFFFFFFFFFFFFFFFFFFFFFFFFFFFFFFFFFFEFFFFFC2F"
   ]
  },
  {
   "cell_type": "code",
   "execution_count": 51,
   "metadata": {},
   "outputs": [
    {
     "data": {
      "text/plain": [
       "0"
      ]
     },
     "execution_count": 51,
     "metadata": {},
     "output_type": "execute_result"
    }
   ],
   "source": [
    "fieldSize-cv.field"
   ]
  },
  {
   "cell_type": "code",
   "execution_count": 52,
   "metadata": {},
   "outputs": [],
   "source": [
    "def numberToUint256(number):\n",
    "    _ = hex(number).split('x')[1]\n",
    "    return '0x'+'0'*(64-len(_))+_"
   ]
  },
  {
   "cell_type": "code",
   "execution_count": 53,
   "metadata": {},
   "outputs": [],
   "source": [
    "def hashToCurve(pk, seed):\n",
    "    #assumes the pubkey is a valid secp256k1 pt\n",
    "    domsep = numberToUint256(1) #uint256 of 1 to account for the domain separator in chlink solidity contract\n",
    "    h = int.from_bytes(eth_utils.keccak(hexstr = domsep+numberToUint256(pk.x)[2:]+numberToUint256(pk.y)[2:]+numberToUint256(seed)[2:]), 'big')\n",
    "    while True:\n",
    "        try:\n",
    "            y2 = ((h*(h*h)%fieldSize)%fieldSize+7)%fieldSize\n",
    "            #n % 4 = 3 => Legendre's formula for square root holds\n",
    "            #x = sqrt(a) => x = +- a^((n+1)/4)\n",
    "            #see Hardy, G. H.; Wright, E. M. (1980), An Introduction to the Theory of Numbers\n",
    "            y = pow(y2, (fieldSize+1)//4, fieldSize)\n",
    "            pt = curves.Point(h, y, cv)\n",
    "            return pt if y % 2 == 0 else -pt\n",
    "        except Exception as e:    \n",
    "            print(str(e.value))\n",
    "            #recursively hash\n",
    "            h = int.from_bytes(eth_utils.keccak(hexstr = numberToUint256(h)), 'big')"
   ]
  },
  {
   "cell_type": "code",
   "execution_count": 54,
   "metadata": {},
   "outputs": [],
   "source": [
    "#hashToCurve(publickey, 2000)"
   ]
  },
  {
   "cell_type": "code",
   "execution_count": 55,
   "metadata": {},
   "outputs": [],
   "source": [
    "def ptToAddress(pt):\n",
    "    return '0x'+eth_utils.keccak(pt.x.to_bytes(32, byteorder='big')+pt.y.to_bytes(32, byteorder='big'))[-20:].hex()"
   ]
  },
  {
   "cell_type": "code",
   "execution_count": 56,
   "metadata": {},
   "outputs": [],
   "source": [
    "def marshalPoint(pt):\n",
    "    print(pt.y.to_bytes(32, 'big'))\n",
    "    return pt.x.to_bytes(32, 'big')+pt.y.to_bytes(32, 'big')"
   ]
  },
  {
   "cell_type": "code",
   "execution_count": 57,
   "metadata": {},
   "outputs": [],
   "source": [
    "def ptToUint2562(pt):\n",
    "    return [pt.x, pt.y]"
   ]
  },
  {
   "cell_type": "code",
   "execution_count": 58,
   "metadata": {},
   "outputs": [],
   "source": [
    "def hashMuchToScalar(h, pubk, gamma, uw, v):\n",
    "    chlinkDomSep = 2 #chlink domain separator\n",
    "    return web3.Web3.solidity_keccak(\n",
    "        ['uint256', 'uint256[2]', 'uint256[2]', 'uint256[2]', 'uint256[2]', 'address'],\n",
    "        [chlinkDomSep, ptToUint2562(h), ptToUint2562(pubk), ptToUint2562(gamma), ptToUint2562(v), web3.Web3.to_checksum_address(uw)]\n",
    "    )"
   ]
  },
  {
   "cell_type": "code",
   "execution_count": 59,
   "metadata": {},
   "outputs": [],
   "source": [
    "def genProofWithNonce(seed, nonce, privkey):\n",
    "    pkh = int.from_bytes(eth_utils.keccak(primitive=privkey), 'big')\n",
    "    pubkey = cv.mul_point(pkh, cv.generator)\n",
    "    h = hashToCurve(pubkey, seed)\n",
    "    gamma = cv.mul_point(pkh, h)\n",
    "    u = cv.mul_point(nonce, cv.generator)\n",
    "    witness = ptToAddress(u)\n",
    "    print(witness)\n",
    "    v = cv.mul_point(nonce, h)\n",
    "    print(v.x, v.y)\n",
    "    c = int(hashMuchToScalar(\n",
    "        h, pubkey, gamma, witness, v\n",
    "    ).hex(), 16)\n",
    "    s = (nonce - c*pkh)%cv.order\n",
    "    outputHash = '0x'+eth_utils.keccak(hexstr = \n",
    "        numberToUint256(3)+marshalPoint(gamma).hex()\n",
    "    ).hex() #gamma hash => vrf output, i.e., a uniform uint256 sample\n",
    "    return {\n",
    "        'pubkey': pubkey,\n",
    "        'gamma': gamma,\n",
    "        'c': c,\n",
    "        's': s,\n",
    "        'seed': seed,\n",
    "        'output': outputHash\n",
    "    }"
   ]
  },
  {
   "cell_type": "code",
   "execution_count": 60,
   "metadata": {},
   "outputs": [
    {
     "name": "stdout",
     "output_type": "stream",
     "text": [
      "Point not on curve\n",
      "Point not on curve\n",
      "Point not on curve\n",
      "Point not on curve\n",
      "Point not on curve\n",
      "Point not on curve\n",
      "0x811da72aca31e56f770fc33df0e45fd08720e157\n",
      "74863086198399191924943238632167323619370939244480760622944205425442389914371 50881828270484193851872037685663306175837634488992815620786628956054752606330\n",
      "b'Z\\xcct\\xb7\\x9d\\n\\x8c.\\xfe\\xc6D\\xd1`\\xdf\\x05q7\\x00\\x83\\xc2\\x1d[\\xa7\\xcf]\\xd0t\\xd3\\xa2mt\\xa2'\n"
     ]
    },
    {
     "data": {
      "text/plain": [
       "{'pubkey': <ecpy.curves.Point at 0x7f32e0bf51c0>,\n",
       " 'gamma': <ecpy.curves.Point at 0x7f32e0bcb9c0>,\n",
       " 'c': 2550015722850679518787319154538425662282961935893234342835482673578597365984,\n",
       " 's': 94469602435952086750827151435547716300421105075696334838625225880192978608295,\n",
       " 'seed': 10,\n",
       " 'output': '0x63ed53ead4b20037021ec088219370af52418fa51e4005c379223d39f2415830'}"
      ]
     },
     "execution_count": 60,
     "metadata": {},
     "output_type": "execute_result"
    }
   ],
   "source": [
    "genProofWithNonce(\n",
    "    10, 20, 30\n",
    ")"
   ]
  },
  {
   "cell_type": "code",
   "execution_count": 61,
   "metadata": {},
   "outputs": [],
   "source": [
    "def PROJECTIVE_MULTIPLICATION(x1,z1,x2,z2):\n",
    "    return x1*x2, z1*z2\n",
    "def PROJECTIVE_SUBTRACTION(x1,z1,x2,z2):\n",
    "    p1 = z2*x1\n",
    "    p2 = -x2*z1\n",
    "    return (p1+p2)%fieldSize, (z1*z2)%fieldSize\n",
    "#ABOVE FIELD OPS BELOW GROUP OPS"
   ]
  },
  {
   "cell_type": "code",
   "execution_count": 62,
   "metadata": {},
   "outputs": [],
   "source": [
    "def PROJECTIVE_ECCADDITION(pt1, pt2): #ECCADD in homogeneous projective coords chlink uses in their ctr\n",
    "    x1,y1 = pt1.x, pt1.y\n",
    "    x2,y2 = pt2.x, pt2.y\n",
    "    z1,z2 = 1,1\n",
    "    lx, lz = y2-y1, x2-x1\n",
    "    sx, dx = PROJECTIVE_MULTIPLICATION(lx, lz, lx, lz)\n",
    "    sx, dx = PROJECTIVE_SUBTRACTION(sx, dx, x1, z1)\n",
    "    sx, dx = PROJECTIVE_SUBTRACTION(sx, dx, x2, z2)\n",
    "    sy, dy = PROJECTIVE_SUBTRACTION(x1, z1, sx, dx)\n",
    "    sy, dy = PROJECTIVE_MULTIPLICATION(sy, dy, lx, lz)\n",
    "    sy, dy = PROJECTIVE_SUBTRACTION(sy, dy, y1, z1)\n",
    "    if dx!=dy:\n",
    "        sx*=dy\n",
    "        sy*=dx\n",
    "        sz=dx*dy\n",
    "    else:\n",
    "        sz = dx\n",
    "    return sx%fieldSize, sy%fieldSize, sz%fieldSize"
   ]
  },
  {
   "cell_type": "code",
   "execution_count": 63,
   "metadata": {},
   "outputs": [],
   "source": [
    "def modinvPRIME(a, ord):\n",
    "    return pow(a, ord-2, ord)"
   ]
  },
  {
   "cell_type": "code",
   "execution_count": 64,
   "metadata": {},
   "outputs": [],
   "source": [
    "def solProofAsInChlink(seed, nonce, privkey): #need not really be separate, I just noticed too late there are additional fields in sol ctr for gas-saving precomputes\n",
    "    proof = genProofWithNonce(seed, nonce, privkey)\n",
    "    u = cv.add_point(cv.mul_point(proof['c'], proof['pubkey']), cv.mul_point(proof['s'], cv.generator))\n",
    "    hash = hashToCurve(proof['pubkey'], proof['seed'])\n",
    "    print(hash.x, hash.y)\n",
    "    cgw = cv.mul_point(proof['c'], proof['gamma'])\n",
    "    shw = cv.mul_point(proof['s'], hash)\n",
    "    _, _, PROJDENOM = PROJECTIVE_ECCADDITION(cgw, shw)\n",
    "    zinv = modinvPRIME(PROJDENOM, fieldSize)\n",
    "    print(\n",
    "        (zinv*PROJDENOM)%fieldSize\n",
    "    )\n",
    "    return {\n",
    "        'proof': proof,\n",
    "        'uw': ptToAddress(u),\n",
    "        'cgw': cgw,\n",
    "        'shw': shw,\n",
    "        'zinv': zinv\n",
    "    }"
   ]
  },
  {
   "cell_type": "code",
   "execution_count": 65,
   "metadata": {},
   "outputs": [
    {
     "name": "stdout",
     "output_type": "stream",
     "text": [
      "Point not on curve\n",
      "Point not on curve\n",
      "Point not on curve\n",
      "Point not on curve\n",
      "Point not on curve\n",
      "Point not on curve\n",
      "0x811da72aca31e56f770fc33df0e45fd08720e157\n",
      "74863086198399191924943238632167323619370939244480760622944205425442389914371 50881828270484193851872037685663306175837634488992815620786628956054752606330\n",
      "b'Z\\xcct\\xb7\\x9d\\n\\x8c.\\xfe\\xc6D\\xd1`\\xdf\\x05q7\\x00\\x83\\xc2\\x1d[\\xa7\\xcf]\\xd0t\\xd3\\xa2mt\\xa2'\n"
     ]
    }
   ],
   "source": [
    "prf = genProofWithNonce(10, 20, 30)"
   ]
  },
  {
   "cell_type": "code",
   "execution_count": 66,
   "metadata": {},
   "outputs": [
    {
     "name": "stdout",
     "output_type": "stream",
     "text": [
      "Point not on curve\n",
      "Point not on curve\n",
      "Point not on curve\n",
      "Point not on curve\n",
      "Point not on curve\n",
      "Point not on curve\n",
      "0x811da72aca31e56f770fc33df0e45fd08720e157\n",
      "74863086198399191924943238632167323619370939244480760622944205425442389914371 50881828270484193851872037685663306175837634488992815620786628956054752606330\n",
      "b'Z\\xcct\\xb7\\x9d\\n\\x8c.\\xfe\\xc6D\\xd1`\\xdf\\x05q7\\x00\\x83\\xc2\\x1d[\\xa7\\xcf]\\xd0t\\xd3\\xa2mt\\xa2'\n",
      "Point not on curve\n",
      "Point not on curve\n",
      "Point not on curve\n",
      "Point not on curve\n",
      "Point not on curve\n",
      "Point not on curve\n",
      "8780222884449708748774725748080760201120738600334046747564455082096312727749 38102243232494913210339528110086982590896373180670496230211626875175386220432\n",
      "1\n"
     ]
    },
    {
     "data": {
      "text/plain": [
       "{'proof': {'pubkey': <ecpy.curves.Point at 0x7f32e021f3c0>,\n",
       "  'gamma': <ecpy.curves.Point at 0x7f32e0bea6c0>,\n",
       "  'c': 2550015722850679518787319154538425662282961935893234342835482673578597365984,\n",
       "  's': 94469602435952086750827151435547716300421105075696334838625225880192978608295,\n",
       "  'seed': 10,\n",
       "  'output': '0x63ed53ead4b20037021ec088219370af52418fa51e4005c379223d39f2415830'},\n",
       " 'uw': '0x811da72aca31e56f770fc33df0e45fd08720e157',\n",
       " 'cgw': <ecpy.curves.Point at 0x7f32f80d28c0>,\n",
       " 'shw': <ecpy.curves.Point at 0x7f32e0bea680>,\n",
       " 'zinv': 100194762916240629748119590467593311691077780522176707797321225309109196973747}"
      ]
     },
     "execution_count": 66,
     "metadata": {},
     "output_type": "execute_result"
    }
   ],
   "source": [
    "solProofAsInChlink(10, 20, 30)"
   ]
  },
  {
   "cell_type": "code",
   "execution_count": 67,
   "metadata": {},
   "outputs": [],
   "source": [
    "prov = web3.Web3(web3.HTTPProvider('https://sepolia.gateway.tenderly.co'))"
   ]
  },
  {
   "cell_type": "code",
   "execution_count": 68,
   "metadata": {},
   "outputs": [
    {
     "data": {
      "text/plain": [
       "False"
      ]
     },
     "execution_count": 68,
     "metadata": {},
     "output_type": "execute_result"
    }
   ],
   "source": [
    "prov.is_connected()"
   ]
  },
  {
   "cell_type": "code",
   "execution_count": 69,
   "metadata": {},
   "outputs": [],
   "source": [
    "abi = '[{\"inputs\":[{\"components\":[{\"internalType\":\"uint256[2]\",\"name\":\"pk\",\"type\":\"uint256[2]\"},{\"internalType\":\"uint256[2]\",\"name\":\"gamma\",\"type\":\"uint256[2]\"},{\"internalType\":\"uint256\",\"name\":\"c\",\"type\":\"uint256\"},{\"internalType\":\"uint256\",\"name\":\"s\",\"type\":\"uint256\"},{\"internalType\":\"uint256\",\"name\":\"seed\",\"type\":\"uint256\"},{\"internalType\":\"address\",\"name\":\"uWitness\",\"type\":\"address\"},{\"internalType\":\"uint256[2]\",\"name\":\"cGammaWitness\",\"type\":\"uint256[2]\"},{\"internalType\":\"uint256[2]\",\"name\":\"sHashWitness\",\"type\":\"uint256[2]\"},{\"internalType\":\"uint256\",\"name\":\"zInv\",\"type\":\"uint256\"}],\"internalType\":\"struct VRF.Proof\",\"name\":\"proof\",\"type\":\"tuple\"},{\"internalType\":\"uint256\",\"name\":\"seed\",\"type\":\"uint256\"}],\"name\":\"randomValueFromVRFProof\",\"outputs\":[{\"internalType\":\"uint256\",\"name\":\"output\",\"type\":\"uint256\"}],\"stateMutability\":\"view\",\"type\":\"function\"},{\"inputs\":[{\"internalType\":\"uint256[2]\",\"name\":\"pk\",\"type\":\"uint256[2]\"},{\"internalType\":\"uint256[2]\",\"name\":\"gamma\",\"type\":\"uint256[2]\"},{\"internalType\":\"uint256\",\"name\":\"c\",\"type\":\"uint256\"},{\"internalType\":\"uint256\",\"name\":\"s\",\"type\":\"uint256\"},{\"internalType\":\"uint256\",\"name\":\"seed\",\"type\":\"uint256\"},{\"internalType\":\"address\",\"name\":\"uWitness\",\"type\":\"address\"},{\"internalType\":\"uint256[2]\",\"name\":\"cGammaWitness\",\"type\":\"uint256[2]\"},{\"internalType\":\"uint256[2]\",\"name\":\"sHashWitness\",\"type\":\"uint256[2]\"},{\"internalType\":\"uint256\",\"name\":\"zInv\",\"type\":\"uint256\"}],\"name\":\"verifyVRFProof\",\"outputs\":[],\"stateMutability\":\"view\",\"type\":\"function\"}]'"
   ]
  },
  {
   "cell_type": "code",
   "execution_count": 70,
   "metadata": {},
   "outputs": [],
   "source": [
    "vrfctr = prov.eth.contract('0xEE52fbf97738Ae76d89f260b193f5b00d05D7401', abi = abi)"
   ]
  },
  {
   "cell_type": "code",
   "execution_count": 71,
   "metadata": {},
   "outputs": [
    {
     "name": "stdout",
     "output_type": "stream",
     "text": [
      "Point not on curve\n",
      "Point not on curve\n",
      "Point not on curve\n",
      "Point not on curve\n",
      "Point not on curve\n",
      "Point not on curve\n",
      "0x811da72aca31e56f770fc33df0e45fd08720e157\n",
      "74863086198399191924943238632167323619370939244480760622944205425442389914371 50881828270484193851872037685663306175837634488992815620786628956054752606330\n",
      "b'Z\\xcct\\xb7\\x9d\\n\\x8c.\\xfe\\xc6D\\xd1`\\xdf\\x05q7\\x00\\x83\\xc2\\x1d[\\xa7\\xcf]\\xd0t\\xd3\\xa2mt\\xa2'\n",
      "Point not on curve\n",
      "Point not on curve\n",
      "Point not on curve\n",
      "Point not on curve\n",
      "Point not on curve\n",
      "Point not on curve\n",
      "8780222884449708748774725748080760201120738600334046747564455082096312727749 38102243232494913210339528110086982590896373180670496230211626875175386220432\n",
      "1\n"
     ]
    },
    {
     "data": {
      "text/plain": [
       "'0x28d10d961afeebc98951429c55aba849ab00450de7c512a87cdc16b9fe685b67'"
      ]
     },
     "execution_count": 71,
     "metadata": {},
     "output_type": "execute_result"
    }
   ],
   "source": [
    "hex(solProofAsInChlink(10, 20, 30)['shw'].x)"
   ]
  },
  {
   "cell_type": "code",
   "execution_count": 72,
   "metadata": {},
   "outputs": [],
   "source": [
    "def ptToArr(pt):\n",
    "    return [numberToUint256(pt.x), numberToUint256(pt.y)]\n",
    "def ptToArrNat(pt):\n",
    "    return [pt.x, pt.y]"
   ]
  },
  {
   "cell_type": "code",
   "execution_count": 73,
   "metadata": {},
   "outputs": [],
   "source": [
    "def formatProofAsProof(proof):\n",
    "    return [\n",
    "        ptToArrNat(proof['proof']['pubkey']),\n",
    "        ptToArrNat(proof['proof']['gamma']),\n",
    "        proof['proof']['c'],\n",
    "        proof['proof']['s'],\n",
    "        proof['proof']['seed'],\n",
    "        web3.Web3.to_checksum_address(proof['uw']),\n",
    "        ptToArrNat(proof['cgw']),\n",
    "        ptToArrNat(proof['shw']),\n",
    "        proof['zinv']\n",
    "    ]"
   ]
  },
  {
   "cell_type": "code",
   "execution_count": 74,
   "metadata": {},
   "outputs": [
    {
     "name": "stdout",
     "output_type": "stream",
     "text": [
      "0x1790a17ab86f60534c1b9a6c12ea7a7e2a49cc0f\n",
      "91184012481621589291931270753460610378436359872908219737366472838428821182621 91363583620087044511614325052274571081484459280161846280009133211421300385522\n",
      "b'\\xa1^\\xaf\\x98g\\xf8o\\x84\\xc42\\xd0\\xfc\\x1fC\\x91Rd3\\x01\\x9d]m:\\x04\\xf8\\xe6k/\\x96\\xe0}\\x89'\n",
      "109360925089048043473142323561402532221447906968487931107011630325448725195854 3130026131399587132073243728663027936714315915252734286673438584224924004892\n",
      "1\n"
     ]
    }
   ],
   "source": [
    "_ = formatProofAsProof(solProofAsInChlink(np.random.randint(0, 1e6), np.random.randint(0, 1e6), np.random.randint(0, 1e6)))"
   ]
  },
  {
   "cell_type": "code",
   "execution_count": 75,
   "metadata": {},
   "outputs": [
    {
     "name": "stdout",
     "output_type": "stream",
     "text": [
      "Point not on curve\n",
      "Point not on curve\n",
      "Point not on curve\n",
      "Point not on curve\n",
      "Point not on curve\n",
      "Point not on curve\n",
      "0x811da72aca31e56f770fc33df0e45fd08720e157\n",
      "74863086198399191924943238632167323619370939244480760622944205425442389914371 50881828270484193851872037685663306175837634488992815620786628956054752606330\n",
      "b'Z\\xcct\\xb7\\x9d\\n\\x8c.\\xfe\\xc6D\\xd1`\\xdf\\x05q7\\x00\\x83\\xc2\\x1d[\\xa7\\xcf]\\xd0t\\xd3\\xa2mt\\xa2'\n",
      "Point not on curve\n",
      "Point not on curve\n",
      "Point not on curve\n",
      "Point not on curve\n",
      "Point not on curve\n",
      "Point not on curve\n",
      "8780222884449708748774725748080760201120738600334046747564455082096312727749 38102243232494913210339528110086982590896373180670496230211626875175386220432\n",
      "1\n"
     ]
    }
   ],
   "source": [
    "_ = formatProofAsProof(solProofAsInChlink(10, 20, 30))"
   ]
  },
  {
   "cell_type": "code",
   "execution_count": 76,
   "metadata": {},
   "outputs": [
    {
     "data": {
      "text/plain": [
       "[[63155022883789688493371680209862490445514369463411226221659643962468555807992,\n",
       "  99955949732387228775277083364683469913777587008053067871931724674521767595062],\n",
       " [91213803075109400468877361755141875464865437359194626313731230918609918698133,\n",
       "  41069398726493601970477301634341161029642850897274024511218240778521136690338],\n",
       " 2550015722850679518787319154538425662282961935893234342835482673578597365984,\n",
       " 94469602435952086750827151435547716300421105075696334838625225880192978608295,\n",
       " 10,\n",
       " '0x811da72aCA31e56F770Fc33DF0e45fD08720E157',\n",
       " [112015555460945632335719214645740881395415012627608701823581101668272029586953,\n",
       "  96903784839656166123495876242624205453242699169996442179751859082329650468406],\n",
       " [18461878749406834228018327956670197390414480213258199266237144391360874830695,\n",
       "  57008030688626927280283343239975755514347666948580257687850273130131065105656],\n",
       " 100194762916240629748119590467593311691077780522176707797321225309109196973747]"
      ]
     },
     "execution_count": 76,
     "metadata": {},
     "output_type": "execute_result"
    }
   ],
   "source": [
    "_"
   ]
  },
  {
   "cell_type": "code",
   "execution_count": 77,
   "metadata": {},
   "outputs": [
    {
     "data": {
      "text/plain": [
       "[]"
      ]
     },
     "execution_count": 77,
     "metadata": {},
     "output_type": "execute_result"
    }
   ],
   "source": [
    "vrfctr.functions.verifyVRFProof(*_).call() #verifying the proof onchain"
   ]
  },
  {
   "cell_type": "code",
   "execution_count": null,
   "metadata": {},
   "outputs": [],
   "source": []
  },
  {
   "cell_type": "code",
   "execution_count": 78,
   "metadata": {},
   "outputs": [
    {
     "data": {
      "text/plain": [
       "'0x3848d2098ba079e946090d2313b0fcd608ac036918f4401f70aa35bd85b157017b7fdcf8dcfd100b73a4da5a9fba3c9d35be527c38d7e3ab87d727ab94257352b5c7cc36c9a92ed9f01842c4143b152750a9aadc5862df8604b9c900174c8d0a026722955acc74b79d0a8c2efec644d160df0571370083c21d5ba7cf5dd074d3a26d74a205a341fc0914ce271e528a3141325d9b84c28757628334eeab1fe2c691af38e0d0dbe6701593f475e594361bfe7f1c6de272174ea36d1b8427b9f0d2b12d60a7000000000000000000000000000000000000000000000000000000000000000a000000000000000000000000811da72aca31e56f770fc33df0e45fd08720e157f7a68ec0e252bf5ad3bf7a260b8be02404433c75ebc192f9ca08a6966e945609d63d993b857c88cabbf8e61496bb9326c623007baa48d7eb424ff20755dd963628d10d961afeebc98951429c55aba849ab00450de7c512a87cdc16b9fe685b677e0966e4b035eb261086b2422af3b6583070727aecdd97b9e8e2889fb1ff6cf8dd8439e4c18127f3970b7105142fbc290157094fd856b83a8b011d4d89dc66b3'"
      ]
     },
     "execution_count": 78,
     "metadata": {},
     "output_type": "execute_result"
    }
   ],
   "source": [
    "_ = formatProofAsProof(solProofAsInChlink(10, 20, 30))\n",
    "vrfctr.functions.verifyVRFProof(*_)._encode_transaction_data()"
   ]
  },
  {
   "cell_type": "code",
   "execution_count": null,
   "metadata": {},
   "outputs": [],
   "source": []
  },
  {
   "cell_type": "code",
   "execution_count": null,
   "metadata": {},
   "outputs": [],
   "source": []
  }
 ],
 "metadata": {
  "kernelspec": {
   "display_name": ".venv",
   "language": "python",
   "name": "python3"
  },
  "language_info": {
   "codemirror_mode": {
    "name": "ipython",
    "version": 3
   },
   "file_extension": ".py",
   "mimetype": "text/x-python",
   "name": "python",
   "nbconvert_exporter": "python",
   "pygments_lexer": "ipython3",
   "version": "3.10.12"
  }
 },
 "nbformat": 4,
 "nbformat_minor": 2
}
